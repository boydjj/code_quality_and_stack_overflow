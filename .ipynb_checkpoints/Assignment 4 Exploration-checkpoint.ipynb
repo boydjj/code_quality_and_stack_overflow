{
 "cells": [
  {
   "cell_type": "code",
   "execution_count": 1,
   "metadata": {
    "collapsed": true
   },
   "outputs": [],
   "source": [
    "import pandas as pd\n",
    "import numpy as np\n",
    "import matplotlib as plt"
   ]
  },
  {
   "cell_type": "code",
   "execution_count": 2,
   "metadata": {
    "collapsed": true
   },
   "outputs": [],
   "source": [
    "df = pd.read_csv('data/concatenated_summaries.csv')"
   ]
  },
  {
   "cell_type": "code",
   "execution_count": 92,
   "metadata": {
    "collapsed": false,
    "scrolled": true
   },
   "outputs": [
    {
     "data": {
      "text/html": [
       "<div style=\"max-height:1000px;max-width:1500px;overflow:auto;\">\n",
       "<table border=\"1\" class=\"dataframe\">\n",
       "  <thead>\n",
       "    <tr style=\"text-align: right;\">\n",
       "      <th></th>\n",
       "      <th>num_files</th>\n",
       "      <th>max_block_complexity</th>\n",
       "      <th>min_block_complexity</th>\n",
       "      <th>mean_block_complexity</th>\n",
       "      <th>max_file_complexity</th>\n",
       "      <th>min_file_complexity</th>\n",
       "      <th>mean_file_complexity</th>\n",
       "      <th>loc</th>\n",
       "      <th>lloc</th>\n",
       "      <th>sloc</th>\n",
       "      <th>...</th>\n",
       "      <th>multi</th>\n",
       "      <th>blank</th>\n",
       "      <th>min_mi</th>\n",
       "      <th>max_mi</th>\n",
       "      <th>mean_mi</th>\n",
       "      <th>total_posts</th>\n",
       "      <th>answered</th>\n",
       "      <th>unanswered</th>\n",
       "      <th>answered_ratio</th>\n",
       "      <th>unanswered_ratio</th>\n",
       "    </tr>\n",
       "  </thead>\n",
       "  <tbody>\n",
       "    <tr>\n",
       "      <th>count</th>\n",
       "      <td>  101.000000</td>\n",
       "      <td> 101.000000</td>\n",
       "      <td> 101</td>\n",
       "      <td> 101.000000</td>\n",
       "      <td> 101.000000</td>\n",
       "      <td> 101.000000</td>\n",
       "      <td> 101.000000</td>\n",
       "      <td>    101.000000</td>\n",
       "      <td>    101.000000</td>\n",
       "      <td>    101.000000</td>\n",
       "      <td>...</td>\n",
       "      <td>   101.000000</td>\n",
       "      <td>   101.000000</td>\n",
       "      <td> 101.000000</td>\n",
       "      <td> 101.000000</td>\n",
       "      <td> 101.000000</td>\n",
       "      <td>  101.000000</td>\n",
       "      <td>  101.000000</td>\n",
       "      <td>  101.000000</td>\n",
       "      <td> 101.000000</td>\n",
       "      <td> 101.000000</td>\n",
       "    </tr>\n",
       "    <tr>\n",
       "      <th>mean</th>\n",
       "      <td>  493.306931</td>\n",
       "      <td>  56.376238</td>\n",
       "      <td>   1</td>\n",
       "      <td>   2.570560</td>\n",
       "      <td> 379.138614</td>\n",
       "      <td>   1.336634</td>\n",
       "      <td>  39.677043</td>\n",
       "      <td>  63940.455446</td>\n",
       "      <td>  34399.376238</td>\n",
       "      <td>  55250.792079</td>\n",
       "      <td>...</td>\n",
       "      <td>  7427.376238</td>\n",
       "      <td>  8689.663366</td>\n",
       "      <td>   8.330319</td>\n",
       "      <td>  99.707137</td>\n",
       "      <td>  76.093098</td>\n",
       "      <td> 1040.039604</td>\n",
       "      <td>  619.475248</td>\n",
       "      <td>  420.564356</td>\n",
       "      <td>   0.626107</td>\n",
       "      <td>   0.373893</td>\n",
       "    </tr>\n",
       "    <tr>\n",
       "      <th>std</th>\n",
       "      <td>  698.408630</td>\n",
       "      <td>  35.376221</td>\n",
       "      <td>   0</td>\n",
       "      <td>   0.631603</td>\n",
       "      <td> 174.852797</td>\n",
       "      <td>   1.850823</td>\n",
       "      <td>  14.775482</td>\n",
       "      <td>  80899.023860</td>\n",
       "      <td>  45219.733138</td>\n",
       "      <td>  69241.856611</td>\n",
       "      <td>...</td>\n",
       "      <td>  8492.265357</td>\n",
       "      <td> 11807.186709</td>\n",
       "      <td>  14.439090</td>\n",
       "      <td>   2.149247</td>\n",
       "      <td>   8.625269</td>\n",
       "      <td> 1751.570615</td>\n",
       "      <td> 1003.687896</td>\n",
       "      <td>  794.916378</td>\n",
       "      <td>   0.157863</td>\n",
       "      <td>   0.157863</td>\n",
       "    </tr>\n",
       "    <tr>\n",
       "      <th>min</th>\n",
       "      <td>    1.000000</td>\n",
       "      <td>   1.000000</td>\n",
       "      <td>   1</td>\n",
       "      <td>   1.000000</td>\n",
       "      <td>   1.000000</td>\n",
       "      <td>   0.000000</td>\n",
       "      <td>   1.000000</td>\n",
       "      <td>     48.000000</td>\n",
       "      <td>     11.000000</td>\n",
       "      <td>     40.000000</td>\n",
       "      <td>...</td>\n",
       "      <td>     0.000000</td>\n",
       "      <td>     8.000000</td>\n",
       "      <td>   0.000000</td>\n",
       "      <td>  81.140629</td>\n",
       "      <td>  59.193518</td>\n",
       "      <td>    1.000000</td>\n",
       "      <td>    0.000000</td>\n",
       "      <td>    0.000000</td>\n",
       "      <td>   0.000000</td>\n",
       "      <td>   0.000000</td>\n",
       "    </tr>\n",
       "    <tr>\n",
       "      <th>25%</th>\n",
       "      <td>   67.000000</td>\n",
       "      <td>  28.000000</td>\n",
       "      <td>   1</td>\n",
       "      <td>   2.030593</td>\n",
       "      <td> 194.000000</td>\n",
       "      <td>   1.000000</td>\n",
       "      <td>  28.626463</td>\n",
       "      <td>  12935.000000</td>\n",
       "      <td>   6324.000000</td>\n",
       "      <td>  11156.000000</td>\n",
       "      <td>...</td>\n",
       "      <td>  1772.000000</td>\n",
       "      <td>  1663.000000</td>\n",
       "      <td>   0.000000</td>\n",
       "      <td> 100.000000</td>\n",
       "      <td>  67.285136</td>\n",
       "      <td>   44.000000</td>\n",
       "      <td>   29.000000</td>\n",
       "      <td>   15.000000</td>\n",
       "      <td>   0.528477</td>\n",
       "      <td>   0.285426</td>\n",
       "    </tr>\n",
       "    <tr>\n",
       "      <th>50%</th>\n",
       "      <td>   83.000000</td>\n",
       "      <td>  45.000000</td>\n",
       "      <td>   1</td>\n",
       "      <td>   2.380970</td>\n",
       "      <td> 412.000000</td>\n",
       "      <td>   1.000000</td>\n",
       "      <td>  33.666667</td>\n",
       "      <td>  20386.000000</td>\n",
       "      <td>   9611.000000</td>\n",
       "      <td>  17688.000000</td>\n",
       "      <td>...</td>\n",
       "      <td>  2667.000000</td>\n",
       "      <td>  2374.000000</td>\n",
       "      <td>   0.000000</td>\n",
       "      <td> 100.000000</td>\n",
       "      <td>  79.813760</td>\n",
       "      <td>  141.000000</td>\n",
       "      <td>   85.000000</td>\n",
       "      <td>   57.000000</td>\n",
       "      <td>   0.610169</td>\n",
       "      <td>   0.389831</td>\n",
       "    </tr>\n",
       "    <tr>\n",
       "      <th>75%</th>\n",
       "      <td>  973.000000</td>\n",
       "      <td>  78.000000</td>\n",
       "      <td>   1</td>\n",
       "      <td>   2.892761</td>\n",
       "      <td> 500.000000</td>\n",
       "      <td>   1.000000</td>\n",
       "      <td>  53.100000</td>\n",
       "      <td> 109072.000000</td>\n",
       "      <td>  50796.000000</td>\n",
       "      <td>  98189.000000</td>\n",
       "      <td>...</td>\n",
       "      <td> 16976.000000</td>\n",
       "      <td> 10883.000000</td>\n",
       "      <td>  17.661607</td>\n",
       "      <td> 100.000000</td>\n",
       "      <td>  83.767762</td>\n",
       "      <td>  809.000000</td>\n",
       "      <td>  458.000000</td>\n",
       "      <td>  356.000000</td>\n",
       "      <td>   0.714574</td>\n",
       "      <td>   0.471523</td>\n",
       "    </tr>\n",
       "    <tr>\n",
       "      <th>max</th>\n",
       "      <td> 2072.000000</td>\n",
       "      <td> 139.000000</td>\n",
       "      <td>   1</td>\n",
       "      <td>   4.327952</td>\n",
       "      <td> 783.000000</td>\n",
       "      <td>  19.000000</td>\n",
       "      <td>  73.638889</td>\n",
       "      <td> 277149.000000</td>\n",
       "      <td> 157085.000000</td>\n",
       "      <td> 234004.000000</td>\n",
       "      <td>...</td>\n",
       "      <td> 25452.000000</td>\n",
       "      <td> 43145.000000</td>\n",
       "      <td>  89.280254</td>\n",
       "      <td> 100.000000</td>\n",
       "      <td>  89.280254</td>\n",
       "      <td> 5943.000000</td>\n",
       "      <td> 3110.000000</td>\n",
       "      <td> 3341.000000</td>\n",
       "      <td>   1.000000</td>\n",
       "      <td>   1.000000</td>\n",
       "    </tr>\n",
       "  </tbody>\n",
       "</table>\n",
       "<p>8 rows × 21 columns</p>\n",
       "</div>"
      ],
      "text/plain": [
       "         num_files  max_block_complexity  min_block_complexity  \\\n",
       "count   101.000000            101.000000                   101   \n",
       "mean    493.306931             56.376238                     1   \n",
       "std     698.408630             35.376221                     0   \n",
       "min       1.000000              1.000000                     1   \n",
       "25%      67.000000             28.000000                     1   \n",
       "50%      83.000000             45.000000                     1   \n",
       "75%     973.000000             78.000000                     1   \n",
       "max    2072.000000            139.000000                     1   \n",
       "\n",
       "       mean_block_complexity  max_file_complexity  min_file_complexity  \\\n",
       "count             101.000000           101.000000           101.000000   \n",
       "mean                2.570560           379.138614             1.336634   \n",
       "std                 0.631603           174.852797             1.850823   \n",
       "min                 1.000000             1.000000             0.000000   \n",
       "25%                 2.030593           194.000000             1.000000   \n",
       "50%                 2.380970           412.000000             1.000000   \n",
       "75%                 2.892761           500.000000             1.000000   \n",
       "max                 4.327952           783.000000            19.000000   \n",
       "\n",
       "       mean_file_complexity            loc           lloc           sloc  \\\n",
       "count            101.000000     101.000000     101.000000     101.000000   \n",
       "mean              39.677043   63940.455446   34399.376238   55250.792079   \n",
       "std               14.775482   80899.023860   45219.733138   69241.856611   \n",
       "min                1.000000      48.000000      11.000000      40.000000   \n",
       "25%               28.626463   12935.000000    6324.000000   11156.000000   \n",
       "50%               33.666667   20386.000000    9611.000000   17688.000000   \n",
       "75%               53.100000  109072.000000   50796.000000   98189.000000   \n",
       "max               73.638889  277149.000000  157085.000000  234004.000000   \n",
       "\n",
       "             ...                multi         blank      min_mi      max_mi  \\\n",
       "count        ...           101.000000    101.000000  101.000000  101.000000   \n",
       "mean         ...          7427.376238   8689.663366    8.330319   99.707137   \n",
       "std          ...          8492.265357  11807.186709   14.439090    2.149247   \n",
       "min          ...             0.000000      8.000000    0.000000   81.140629   \n",
       "25%          ...          1772.000000   1663.000000    0.000000  100.000000   \n",
       "50%          ...          2667.000000   2374.000000    0.000000  100.000000   \n",
       "75%          ...         16976.000000  10883.000000   17.661607  100.000000   \n",
       "max          ...         25452.000000  43145.000000   89.280254  100.000000   \n",
       "\n",
       "          mean_mi  total_posts     answered   unanswered  answered_ratio  \\\n",
       "count  101.000000   101.000000   101.000000   101.000000      101.000000   \n",
       "mean    76.093098  1040.039604   619.475248   420.564356        0.626107   \n",
       "std      8.625269  1751.570615  1003.687896   794.916378        0.157863   \n",
       "min     59.193518     1.000000     0.000000     0.000000        0.000000   \n",
       "25%     67.285136    44.000000    29.000000    15.000000        0.528477   \n",
       "50%     79.813760   141.000000    85.000000    57.000000        0.610169   \n",
       "75%     83.767762   809.000000   458.000000   356.000000        0.714574   \n",
       "max     89.280254  5943.000000  3110.000000  3341.000000        1.000000   \n",
       "\n",
       "       unanswered_ratio  \n",
       "count        101.000000  \n",
       "mean           0.373893  \n",
       "std            0.157863  \n",
       "min            0.000000  \n",
       "25%            0.285426  \n",
       "50%            0.389831  \n",
       "75%            0.471523  \n",
       "max            1.000000  \n",
       "\n",
       "[8 rows x 21 columns]"
      ]
     },
     "execution_count": 92,
     "metadata": {},
     "output_type": "execute_result"
    }
   ],
   "source": [
    "df.describe()"
   ]
  },
  {
   "cell_type": "markdown",
   "metadata": {},
   "source": [
    "## Plot file complexity behavior"
   ]
  },
  {
   "cell_type": "code",
   "execution_count": 72,
   "metadata": {
    "collapsed": false,
    "scrolled": true
   },
   "outputs": [
    {
     "data": {
      "text/plain": [
       "project\n",
       "ansible     39.438395\n",
       "django      29.073628\n",
       "flask       28.368421\n",
       "requests    33.410865\n",
       "tornado     60.784815\n",
       "Name: mean_file_complexity, dtype: float64"
      ]
     },
     "execution_count": 72,
     "metadata": {},
     "output_type": "execute_result"
    }
   ],
   "source": [
    "df.groupby('project')['mean_file_complexity'].median()"
   ]
  },
  {
   "cell_type": "code",
   "execution_count": 6,
   "metadata": {
    "collapsed": false
   },
   "outputs": [
    {
     "data": {
      "text/plain": [
       "<matplotlib.axes._subplots.AxesSubplot at 0x10c9eb490>"
      ]
     },
     "execution_count": 6,
     "metadata": {},
     "output_type": "execute_result"
    },
    {
     "data": {
      "image/png": "[encoded data removed]",
      "text/plain": [
       "<matplotlib.figure.Figure at 0x10c9e1d90>"
      ]
     },
     "metadata": {},
     "output_type": "display_data"
    }
   ],
   "source": [
    "%matplotlib inline\n",
    "df.boxplot(column='mean_file_complexity', by='project')"
   ]
  },
  {
   "cell_type": "code",
   "execution_count": 93,
   "metadata": {
    "collapsed": false
   },
   "outputs": [
    {
     "data": {
      "text/plain": [
       "(array([  1.,   0.,   0.,  34.,  23.,  16.,   1.,  11.,  10.,   5.]),\n",
       " array([  1.        ,   8.26388889,  15.52777778,  22.79166667,\n",
       "         30.05555556,  37.31944444,  44.58333333,  51.84722222,\n",
       "         59.11111111,  66.375     ,  73.63888889]),\n",
       " <a list of 10 Patch objects>)"
      ]
     },
     "execution_count": 93,
     "metadata": {},
     "output_type": "execute_result"
    },
    {
     "data": {
      "image/png": "[encoded data removed]",
      "text/plain": [
       "<matplotlib.figure.Figure at 0x1112eda90>"
      ]
     },
     "metadata": {},
     "output_type": "display_data"
    }
   ],
   "source": [
    "fig = plt.pyplot.figure()\n",
    "ax = fig.add_subplot(111)\n",
    "ax.hist(df['mean_file_complexity'], bins=10, range=(df['mean_file_complexity'].min(), df['mean_file_complexity'].max()))"
   ]
  },
  {
   "cell_type": "markdown",
   "metadata": {},
   "source": [
    "## Look at each project's AR"
   ]
  },
  {
   "cell_type": "code",
   "execution_count": 9,
   "metadata": {
    "collapsed": false,
    "scrolled": true
   },
   "outputs": [
    {
     "data": {
      "text/plain": [
       "<matplotlib.axes._subplots.AxesSubplot at 0x10d481d10>"
      ]
     },
     "execution_count": 9,
     "metadata": {},
     "output_type": "execute_result"
    },
    {
     "data": {
      "image/png": "[encoded data removed]",
      "text/plain": [
       "<matplotlib.figure.Figure at 0x10d300910>"
      ]
     },
     "metadata": {},
     "output_type": "display_data"
    }
   ],
   "source": [
    "df['answered_ratio'] = df['answered']/df['total_posts']\n",
    "df['unanswered_ratio'] = df['unanswered']/df['total_posts']\n",
    "df.boxplot(column='answered_ratio', by='project')"
   ]
  },
  {
   "cell_type": "markdown",
   "metadata": {},
   "source": [
    "## Determine correlations"
   ]
  },
  {
   "cell_type": "markdown",
   "metadata": {},
   "source": [
    "MFC vs. AR:"
   ]
  },
  {
   "cell_type": "code",
   "execution_count": 88,
   "metadata": {
    "collapsed": false,
    "scrolled": true
   },
   "outputs": [
    {
     "data": {
      "text/plain": [
       "project\n",
       "ansible    -0.102473\n",
       "django     -0.634581\n",
       "flask       0.125885\n",
       "requests   -0.092617\n",
       "tornado     0.013930\n",
       "Name: mean_file_complexity, dtype: float64"
      ]
     },
     "execution_count": 88,
     "metadata": {},
     "output_type": "execute_result"
    }
   ],
   "source": [
    "df.groupby('project')['mean_file_complexity'].corr(df['answered_ratio'])"
   ]
  },
  {
   "cell_type": "markdown",
   "metadata": {},
   "source": [
    "LOC vs. MFC:"
   ]
  },
  {
   "cell_type": "code",
   "execution_count": 89,
   "metadata": {
    "collapsed": false,
    "scrolled": true
   },
   "outputs": [
    {
     "data": {
      "text/plain": [
       "project\n",
       "ansible     0.305597\n",
       "django      0.467795\n",
       "flask      -0.364847\n",
       "requests    0.072085\n",
       "tornado    -0.490724\n",
       "Name: loc, dtype: float64"
      ]
     },
     "execution_count": 89,
     "metadata": {},
     "output_type": "execute_result"
    }
   ],
   "source": [
    "df.groupby('project')['loc'].corr(df['mean_file_complexity'])"
   ]
  },
  {
   "cell_type": "markdown",
   "metadata": {},
   "source": [
    "How does LLOC stack up against MFC?"
   ]
  },
  {
   "cell_type": "code",
   "execution_count": 90,
   "metadata": {
    "collapsed": false
   },
   "outputs": [
    {
     "data": {
      "text/plain": [
       "project\n",
       "ansible     0.333673\n",
       "django      0.473775\n",
       "flask      -0.388725\n",
       "requests    0.169648\n",
       "tornado    -0.468007\n",
       "Name: lloc, dtype: float64"
      ]
     },
     "execution_count": 90,
     "metadata": {},
     "output_type": "execute_result"
    }
   ],
   "source": [
    "df.groupby('project')['lloc'].corr(df['mean_file_complexity'])"
   ]
  },
  {
   "cell_type": "markdown",
   "metadata": {},
   "source": [
    "One significant difference: requests."
   ]
  },
  {
   "cell_type": "code",
   "execution_count": 84,
   "metadata": {
    "collapsed": false
   },
   "outputs": [
    {
     "data": {
      "text/plain": [
       "project\n",
       "ansible     0.156746\n",
       "django      0.347234\n",
       "flask      -0.090226\n",
       "requests    0.578055\n",
       "tornado    -0.042555\n",
       "Name: mean_mi, dtype: float64"
      ]
     },
     "execution_count": 84,
     "metadata": {},
     "output_type": "execute_result"
    }
   ],
   "source": [
    "df.groupby('project')['mean_mi'].corr(df['answered_ratio'])"
   ]
  },
  {
   "cell_type": "code",
   "execution_count": 85,
   "metadata": {
    "collapsed": false
   },
   "outputs": [
    {
     "data": {
      "text/plain": [
       "project\n",
       "ansible     0.249206\n",
       "django     -0.201660\n",
       "flask       0.364407\n",
       "requests   -0.258471\n",
       "tornado     0.548609\n",
       "Name: loc, dtype: float64"
      ]
     },
     "execution_count": 85,
     "metadata": {},
     "output_type": "execute_result"
    }
   ],
   "source": [
    "df.groupby('project')['loc'].corr(df['mean_mi'])"
   ]
  },
  {
   "cell_type": "code",
   "execution_count": 95,
   "metadata": {
    "collapsed": false,
    "scrolled": true
   },
   "outputs": [
    {
     "data": {
      "text/plain": [
       "project\n",
       "ansible     0.220138\n",
       "django     -0.223616\n",
       "flask       0.374459\n",
       "requests   -0.412954\n",
       "tornado     0.522434\n",
       "Name: lloc, dtype: float64"
      ]
     },
     "execution_count": 95,
     "metadata": {},
     "output_type": "execute_result"
    }
   ],
   "source": [
    "df.groupby('project')['lloc'].corr(df['mean_mi'])"
   ]
  },
  {
   "cell_type": "code",
   "execution_count": 101,
   "metadata": {
    "collapsed": false
   },
   "outputs": [
    {
     "data": {
      "text/plain": [
       "array([[<matplotlib.axes._subplots.AxesSubplot object at 0x116b21c50>,\n",
       "        <matplotlib.axes._subplots.AxesSubplot object at 0x116d847d0>,\n",
       "        <matplotlib.axes._subplots.AxesSubplot object at 0x116f0a510>,\n",
       "        <matplotlib.axes._subplots.AxesSubplot object at 0x116f6ed10>,\n",
       "        <matplotlib.axes._subplots.AxesSubplot object at 0x116ff2c90>],\n",
       "       [<matplotlib.axes._subplots.AxesSubplot object at 0x116f9f7d0>,\n",
       "        <matplotlib.axes._subplots.AxesSubplot object at 0x1170e5610>,\n",
       "        <matplotlib.axes._subplots.AxesSubplot object at 0x117169590>,\n",
       "        <matplotlib.axes._subplots.AxesSubplot object at 0x1171cda90>,\n",
       "        <matplotlib.axes._subplots.AxesSubplot object at 0x1173537d0>],\n",
       "       [<matplotlib.axes._subplots.AxesSubplot object at 0x1173b8250>,\n",
       "        <matplotlib.axes._subplots.AxesSubplot object at 0x11743b290>,\n",
       "        <matplotlib.axes._subplots.AxesSubplot object at 0x1174b2e90>,\n",
       "        <matplotlib.axes._subplots.AxesSubplot object at 0x117520b10>,\n",
       "        <matplotlib.axes._subplots.AxesSubplot object at 0x1175a5a90>],\n",
       "       [<matplotlib.axes._subplots.AxesSubplot object at 0x11770a710>,\n",
       "        <matplotlib.axes._subplots.AxesSubplot object at 0x11778e950>,\n",
       "        <matplotlib.axes._subplots.AxesSubplot object at 0x117739b10>,\n",
       "        <matplotlib.axes._subplots.AxesSubplot object at 0x118875f10>,\n",
       "        <matplotlib.axes._subplots.AxesSubplot object at 0x1188f7e90>],\n",
       "       [<matplotlib.axes._subplots.AxesSubplot object at 0x11896b490>,\n",
       "        <matplotlib.axes._subplots.AxesSubplot object at 0x1189ee1d0>,\n",
       "        <matplotlib.axes._subplots.AxesSubplot object at 0x117183e90>,\n",
       "        <matplotlib.axes._subplots.AxesSubplot object at 0x118a6ff10>,\n",
       "        <matplotlib.axes._subplots.AxesSubplot object at 0x118af1b50>]], dtype=object)"
      ]
     },
     "execution_count": 101,
     "metadata": {},
     "output_type": "execute_result"
    },
    {
     "data": {
      "image/png": "[encoded data removed]",
      "text/plain": [
       "<matplotlib.figure.Figure at 0x116927550>"
      ]
     },
     "metadata": {},
     "output_type": "display_data"
    }
   ],
   "source": [
    "pd.scatter_matrix(df.loc[:, ['loc', 'lloc', 'answered_ratio', 'mean_file_complexity', 'mean_mi']], alpha=0.2, diagonal='kde')"
   ]
  },
  {
   "cell_type": "code",
   "execution_count": null,
   "metadata": {
    "collapsed": true
   },
   "outputs": [],
   "source": []
  },
  {
   "cell_type": "markdown",
   "metadata": {},
   "source": [
    "## Get summary statistics for report"
   ]
  },
  {
   "cell_type": "code",
   "execution_count": 102,
   "metadata": {
    "collapsed": false
   },
   "outputs": [
    {
     "data": {
      "text/html": [
       "<div style=\"max-height:1000px;max-width:1500px;overflow:auto;\">\n",
       "<table border=\"1\" class=\"dataframe\">\n",
       "  <thead>\n",
       "    <tr style=\"text-align: right;\">\n",
       "      <th></th>\n",
       "      <th></th>\n",
       "      <th>answered_ratio</th>\n",
       "      <th>loc</th>\n",
       "      <th>mean_file_complexity</th>\n",
       "      <th>mean_mi</th>\n",
       "    </tr>\n",
       "    <tr>\n",
       "      <th>project</th>\n",
       "      <th></th>\n",
       "      <th></th>\n",
       "      <th></th>\n",
       "      <th></th>\n",
       "      <th></th>\n",
       "    </tr>\n",
       "  </thead>\n",
       "  <tbody>\n",
       "    <tr>\n",
       "      <th rowspan=\"8\" valign=\"top\">ansible</th>\n",
       "      <th>count</th>\n",
       "      <td> 11.000000</td>\n",
       "      <td>     11.000000</td>\n",
       "      <td> 11.000000</td>\n",
       "      <td> 11.000000</td>\n",
       "    </tr>\n",
       "    <tr>\n",
       "      <th>mean</th>\n",
       "      <td>  0.486294</td>\n",
       "      <td>  25900.545455</td>\n",
       "      <td> 38.884604</td>\n",
       "      <td> 72.258034</td>\n",
       "    </tr>\n",
       "    <tr>\n",
       "      <th>std</th>\n",
       "      <td>  0.171032</td>\n",
       "      <td>  17458.879044</td>\n",
       "      <td>  4.383365</td>\n",
       "      <td>  2.510998</td>\n",
       "    </tr>\n",
       "    <tr>\n",
       "      <th>min</th>\n",
       "      <td>  0.000000</td>\n",
       "      <td>   6998.000000</td>\n",
       "      <td> 30.968750</td>\n",
       "      <td> 69.312889</td>\n",
       "    </tr>\n",
       "    <tr>\n",
       "      <th>25%</th>\n",
       "      <td>  0.472216</td>\n",
       "      <td>  14222.000000</td>\n",
       "      <td> 36.179436</td>\n",
       "      <td> 70.098905</td>\n",
       "    </tr>\n",
       "    <tr>\n",
       "      <th>50%</th>\n",
       "      <td>  0.546296</td>\n",
       "      <td>  21150.000000</td>\n",
       "      <td> 39.438395</td>\n",
       "      <td> 72.433907</td>\n",
       "    </tr>\n",
       "    <tr>\n",
       "      <th>75%</th>\n",
       "      <td>  0.576878</td>\n",
       "      <td>  31137.000000</td>\n",
       "      <td> 41.736909</td>\n",
       "      <td> 73.661980</td>\n",
       "    </tr>\n",
       "    <tr>\n",
       "      <th>max</th>\n",
       "      <td>  0.610169</td>\n",
       "      <td>  67479.000000</td>\n",
       "      <td> 44.858108</td>\n",
       "      <td> 77.282071</td>\n",
       "    </tr>\n",
       "    <tr>\n",
       "      <th rowspan=\"8\" valign=\"top\">django</th>\n",
       "      <th>count</th>\n",
       "      <td> 28.000000</td>\n",
       "      <td>     28.000000</td>\n",
       "      <td> 28.000000</td>\n",
       "      <td> 28.000000</td>\n",
       "    </tr>\n",
       "    <tr>\n",
       "      <th>mean</th>\n",
       "      <td>  0.650561</td>\n",
       "      <td> 185177.571429</td>\n",
       "      <td> 29.768552</td>\n",
       "      <td> 84.521569</td>\n",
       "    </tr>\n",
       "    <tr>\n",
       "      <th>std</th>\n",
       "      <td>  0.134895</td>\n",
       "      <td>  53186.619112</td>\n",
       "      <td>  1.989069</td>\n",
       "      <td>  0.683604</td>\n",
       "    </tr>\n",
       "    <tr>\n",
       "      <th>min</th>\n",
       "      <td>  0.315403</td>\n",
       "      <td>  76788.000000</td>\n",
       "      <td> 26.969626</td>\n",
       "      <td> 83.325345</td>\n",
       "    </tr>\n",
       "    <tr>\n",
       "      <th>25%</th>\n",
       "      <td>  0.570848</td>\n",
       "      <td> 145191.250000</td>\n",
       "      <td> 28.390027</td>\n",
       "      <td> 83.949580</td>\n",
       "    </tr>\n",
       "    <tr>\n",
       "      <th>50%</th>\n",
       "      <td>  0.687541</td>\n",
       "      <td> 196944.500000</td>\n",
       "      <td> 29.073628</td>\n",
       "      <td> 84.616591</td>\n",
       "    </tr>\n",
       "    <tr>\n",
       "      <th>75%</th>\n",
       "      <td>  0.743417</td>\n",
       "      <td> 217369.500000</td>\n",
       "      <td> 31.651215</td>\n",
       "      <td> 85.190187</td>\n",
       "    </tr>\n",
       "    <tr>\n",
       "      <th>max</th>\n",
       "      <td>  0.855072</td>\n",
       "      <td> 277149.000000</td>\n",
       "      <td> 33.091597</td>\n",
       "      <td> 85.601890</td>\n",
       "    </tr>\n",
       "    <tr>\n",
       "      <th rowspan=\"8\" valign=\"top\">flask</th>\n",
       "      <th>count</th>\n",
       "      <td> 20.000000</td>\n",
       "      <td>     20.000000</td>\n",
       "      <td> 20.000000</td>\n",
       "      <td> 20.000000</td>\n",
       "    </tr>\n",
       "    <tr>\n",
       "      <th>mean</th>\n",
       "      <td>  0.701129</td>\n",
       "      <td>   9941.550000</td>\n",
       "      <td> 33.389864</td>\n",
       "      <td> 76.485340</td>\n",
       "    </tr>\n",
       "    <tr>\n",
       "      <th>std</th>\n",
       "      <td>  0.151588</td>\n",
       "      <td>   3703.073311</td>\n",
       "      <td>  9.799427</td>\n",
       "      <td>  6.564754</td>\n",
       "    </tr>\n",
       "    <tr>\n",
       "      <th>min</th>\n",
       "      <td>  0.476048</td>\n",
       "      <td>    614.000000</td>\n",
       "      <td> 24.816327</td>\n",
       "      <td> 60.237055</td>\n",
       "    </tr>\n",
       "    <tr>\n",
       "      <th>25%</th>\n",
       "      <td>  0.596836</td>\n",
       "      <td>   8660.500000</td>\n",
       "      <td> 26.703636</td>\n",
       "      <td> 75.740785</td>\n",
       "    </tr>\n",
       "    <tr>\n",
       "      <th>50%</th>\n",
       "      <td>  0.675788</td>\n",
       "      <td>  11141.000000</td>\n",
       "      <td> 28.368421</td>\n",
       "      <td> 79.871388</td>\n",
       "    </tr>\n",
       "    <tr>\n",
       "      <th>75%</th>\n",
       "      <td>  0.831573</td>\n",
       "      <td>  12595.250000</td>\n",
       "      <td> 39.227174</td>\n",
       "      <td> 80.245262</td>\n",
       "    </tr>\n",
       "    <tr>\n",
       "      <th>max</th>\n",
       "      <td>  1.000000</td>\n",
       "      <td>  13628.000000</td>\n",
       "      <td> 63.777778</td>\n",
       "      <td> 81.199668</td>\n",
       "    </tr>\n",
       "    <tr>\n",
       "      <th rowspan=\"8\" valign=\"top\">requests</th>\n",
       "      <th>count</th>\n",
       "      <td> 18.000000</td>\n",
       "      <td>     18.000000</td>\n",
       "      <td> 18.000000</td>\n",
       "      <td> 18.000000</td>\n",
       "    </tr>\n",
       "    <tr>\n",
       "      <th>mean</th>\n",
       "      <td>  0.647742</td>\n",
       "      <td>  13056.000000</td>\n",
       "      <td> 32.865942</td>\n",
       "      <td> 81.271234</td>\n",
       "    </tr>\n",
       "    <tr>\n",
       "      <th>std</th>\n",
       "      <td>  0.186592</td>\n",
       "      <td>   7666.789251</td>\n",
       "      <td> 12.183215</td>\n",
       "      <td>  2.721743</td>\n",
       "    </tr>\n",
       "    <tr>\n",
       "      <th>min</th>\n",
       "      <td>  0.311111</td>\n",
       "      <td>     48.000000</td>\n",
       "      <td>  1.000000</td>\n",
       "      <td> 76.939360</td>\n",
       "    </tr>\n",
       "    <tr>\n",
       "      <th>25%</th>\n",
       "      <td>  0.582036</td>\n",
       "      <td>   6112.500000</td>\n",
       "      <td> 27.505391</td>\n",
       "      <td> 79.583973</td>\n",
       "    </tr>\n",
       "    <tr>\n",
       "      <th>50%</th>\n",
       "      <td>  0.613475</td>\n",
       "      <td>  15502.500000</td>\n",
       "      <td> 33.410865</td>\n",
       "      <td> 80.595279</td>\n",
       "    </tr>\n",
       "    <tr>\n",
       "      <th>75%</th>\n",
       "      <td>  0.683455</td>\n",
       "      <td>  17820.750000</td>\n",
       "      <td> 38.141667</td>\n",
       "      <td> 81.780353</td>\n",
       "    </tr>\n",
       "    <tr>\n",
       "      <th>max</th>\n",
       "      <td>  1.000000</td>\n",
       "      <td>  25003.000000</td>\n",
       "      <td> 65.250000</td>\n",
       "      <td> 89.280254</td>\n",
       "    </tr>\n",
       "    <tr>\n",
       "      <th rowspan=\"8\" valign=\"top\">tornado</th>\n",
       "      <th>count</th>\n",
       "      <td> 24.000000</td>\n",
       "      <td>     24.000000</td>\n",
       "      <td> 24.000000</td>\n",
       "      <td> 24.000000</td>\n",
       "    </tr>\n",
       "    <tr>\n",
       "      <th>mean</th>\n",
       "      <td>  0.582914</td>\n",
       "      <td>  23094.541667</td>\n",
       "      <td> 61.947792</td>\n",
       "      <td> 63.807148</td>\n",
       "    </tr>\n",
       "    <tr>\n",
       "      <th>std</th>\n",
       "      <td>  0.110776</td>\n",
       "      <td>   7634.367409</td>\n",
       "      <td>  6.253611</td>\n",
       "      <td>  2.636182</td>\n",
       "    </tr>\n",
       "    <tr>\n",
       "      <th>min</th>\n",
       "      <td>  0.400000</td>\n",
       "      <td>  12935.000000</td>\n",
       "      <td> 53.100000</td>\n",
       "      <td> 59.193518</td>\n",
       "    </tr>\n",
       "    <tr>\n",
       "      <th>25%</th>\n",
       "      <td>  0.497378</td>\n",
       "      <td>  16650.500000</td>\n",
       "      <td> 57.198171</td>\n",
       "      <td> 62.894021</td>\n",
       "    </tr>\n",
       "    <tr>\n",
       "      <th>50%</th>\n",
       "      <td>  0.570933</td>\n",
       "      <td>  22889.500000</td>\n",
       "      <td> 60.784815</td>\n",
       "      <td> 64.136632</td>\n",
       "    </tr>\n",
       "    <tr>\n",
       "      <th>75%</th>\n",
       "      <td>  0.648810</td>\n",
       "      <td>  28343.250000</td>\n",
       "      <td> 64.144737</td>\n",
       "      <td> 65.555300</td>\n",
       "    </tr>\n",
       "    <tr>\n",
       "      <th>max</th>\n",
       "      <td>  0.800000</td>\n",
       "      <td>  37530.000000</td>\n",
       "      <td> 73.638889</td>\n",
       "      <td> 67.544070</td>\n",
       "    </tr>\n",
       "  </tbody>\n",
       "</table>\n",
       "</div>"
      ],
      "text/plain": [
       "                answered_ratio            loc  mean_file_complexity    mean_mi\n",
       "project                                                                       \n",
       "ansible  count       11.000000      11.000000             11.000000  11.000000\n",
       "         mean         0.486294   25900.545455             38.884604  72.258034\n",
       "         std          0.171032   17458.879044              4.383365   2.510998\n",
       "         min          0.000000    6998.000000             30.968750  69.312889\n",
       "         25%          0.472216   14222.000000             36.179436  70.098905\n",
       "         50%          0.546296   21150.000000             39.438395  72.433907\n",
       "         75%          0.576878   31137.000000             41.736909  73.661980\n",
       "         max          0.610169   67479.000000             44.858108  77.282071\n",
       "django   count       28.000000      28.000000             28.000000  28.000000\n",
       "         mean         0.650561  185177.571429             29.768552  84.521569\n",
       "         std          0.134895   53186.619112              1.989069   0.683604\n",
       "         min          0.315403   76788.000000             26.969626  83.325345\n",
       "         25%          0.570848  145191.250000             28.390027  83.949580\n",
       "         50%          0.687541  196944.500000             29.073628  84.616591\n",
       "         75%          0.743417  217369.500000             31.651215  85.190187\n",
       "         max          0.855072  277149.000000             33.091597  85.601890\n",
       "flask    count       20.000000      20.000000             20.000000  20.000000\n",
       "         mean         0.701129    9941.550000             33.389864  76.485340\n",
       "         std          0.151588    3703.073311              9.799427   6.564754\n",
       "         min          0.476048     614.000000             24.816327  60.237055\n",
       "         25%          0.596836    8660.500000             26.703636  75.740785\n",
       "         50%          0.675788   11141.000000             28.368421  79.871388\n",
       "         75%          0.831573   12595.250000             39.227174  80.245262\n",
       "         max          1.000000   13628.000000             63.777778  81.199668\n",
       "requests count       18.000000      18.000000             18.000000  18.000000\n",
       "         mean         0.647742   13056.000000             32.865942  81.271234\n",
       "         std          0.186592    7666.789251             12.183215   2.721743\n",
       "         min          0.311111      48.000000              1.000000  76.939360\n",
       "         25%          0.582036    6112.500000             27.505391  79.583973\n",
       "         50%          0.613475   15502.500000             33.410865  80.595279\n",
       "         75%          0.683455   17820.750000             38.141667  81.780353\n",
       "         max          1.000000   25003.000000             65.250000  89.280254\n",
       "tornado  count       24.000000      24.000000             24.000000  24.000000\n",
       "         mean         0.582914   23094.541667             61.947792  63.807148\n",
       "         std          0.110776    7634.367409              6.253611   2.636182\n",
       "         min          0.400000   12935.000000             53.100000  59.193518\n",
       "         25%          0.497378   16650.500000             57.198171  62.894021\n",
       "         50%          0.570933   22889.500000             60.784815  64.136632\n",
       "         75%          0.648810   28343.250000             64.144737  65.555300\n",
       "         max          0.800000   37530.000000             73.638889  67.544070"
      ]
     },
     "execution_count": 102,
     "metadata": {},
     "output_type": "execute_result"
    }
   ],
   "source": [
    "df.loc[:, ['project', 'loc', 'mean_file_complexity', 'answered_ratio', 'mean_mi']].groupby('project').describe()"
   ]
  },
  {
   "cell_type": "code",
   "execution_count": 107,
   "metadata": {
    "collapsed": false
   },
   "outputs": [
    {
     "data": {
      "text/plain": [
       "project\n",
       "ansible     Axes(0.125,0.125;0.775x0.775)\n",
       "django      Axes(0.125,0.125;0.775x0.775)\n",
       "flask       Axes(0.125,0.125;0.775x0.775)\n",
       "requests    Axes(0.125,0.125;0.775x0.775)\n",
       "tornado     Axes(0.125,0.125;0.775x0.775)\n",
       "dtype: object"
      ]
     },
     "execution_count": 107,
     "metadata": {},
     "output_type": "execute_result"
    },
    {
     "data": {
      "image/png": "[encoded data removed]",
      "text/plain": [
       "<matplotlib.figure.Figure at 0x11c14b950>"
      ]
     },
     "metadata": {},
     "output_type": "display_data"
    },
    {
     "data": {
      "image/png": "[encoded data removed]",
      "text/plain": [
       "<matplotlib.figure.Figure at 0x11c30cf90>"
      ]
     },
     "metadata": {},
     "output_type": "display_data"
    },
    {
     "data": {
      "image/png": "[encoded data removed]",
      "text/plain": [
       "<matplotlib.figure.Figure at 0x11c45cb50>"
      ]
     },
     "metadata": {},
     "output_type": "display_data"
    },
    {
     "data": {
      "image/png": "[encoded data removed]",
      "text/plain": [
       "<matplotlib.figure.Figure at 0x11c7956d0>"
      ]
     },
     "metadata": {},
     "output_type": "display_data"
    },
    {
     "data": {
      "image/png": "[encoded data removed]",
      "text/plain": [
       "<matplotlib.figure.Figure at 0x11c705390>"
      ]
     },
     "metadata": {},
     "output_type": "display_data"
    }
   ],
   "source": [
    "df.groupby('project').plot(x='start_date', y=['mean_mi', 'mean_file_complexity', 'answered_ratio'])"
   ]
  },
  {
   "cell_type": "code",
   "execution_count": null,
   "metadata": {
    "collapsed": true
   },
   "outputs": [],
   "source": []
  },
  {
   "cell_type": "code",
   "execution_count": null,
   "metadata": {
    "collapsed": true
   },
   "outputs": [],
   "source": []
  },
  {
   "cell_type": "code",
   "execution_count": null,
   "metadata": {
    "collapsed": true
   },
   "outputs": [],
   "source": []
  },
  {
   "cell_type": "code",
   "execution_count": null,
   "metadata": {
    "collapsed": true
   },
   "outputs": [],
   "source": []
  },
  {
   "cell_type": "code",
   "execution_count": null,
   "metadata": {
    "collapsed": true
   },
   "outputs": [],
   "source": []
  }
 ],
 "metadata": {
  "kernelspec": {
   "display_name": "Python 2",
   "language": "python",
   "name": "python2"
  },
  "language_info": {
   "codemirror_mode": {
    "name": "ipython",
    "version": 2
   },
   "file_extension": ".py",
   "mimetype": "text/x-python",
   "name": "python",
   "nbconvert_exporter": "python",
   "pygments_lexer": "ipython2",
   "version": "2.7.9"
  }
 },
 "nbformat": 4,
 "nbformat_minor": 0
}
